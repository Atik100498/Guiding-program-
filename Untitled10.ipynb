{
 "cells": [
  {
   "cell_type": "code",
   "execution_count": 22,
   "metadata": {},
   "outputs": [
    {
     "name": "stdout",
     "output_type": "stream",
     "text": [
      "(0, 0) to (3, 0) \n",
      " travell for 2.75\n",
      "communicating to controller ...\n",
      "reached (3, 0)\n",
      "now moving side ways ... \n",
      "-----------------------------\n",
      "(3, 0) to (3, 0) \n",
      " travelling for 0.5 side ways\n",
      "communicating to controller ...\n",
      "reached (3, 0)\n",
      "-----------------------------\n",
      "moving from (3, 0) to (3, 0)\n",
      "communicating controller ...\n",
      "reached (3, 0)\n",
      "-----------------------------\n"
     ]
    }
   ],
   "source": [
    "class Bot(object):\n",
    "    def __init__(self):\n",
    "        \n",
    "        pass\n",
    "    def backwards(self,v_c_x,c_p_x,of):\n",
    "        back_dist = c_p_x - v_c_x + of\n",
    "        print(\"{} to {} \\n travell for {}\".format(self.curnt,self.vert,back_dist))\n",
    "        print(\"communicating to controller ...\")\n",
    "        print(\"reached {}\".format(self.vert))\n",
    "        print (\"now moving side ways ... \")\n",
    "        print(\"-----------------------------\")\n",
    "    \n",
    "    def forward(self,v_c_x,c_p_x,of):\n",
    "        fowr_dist = - c_p_x + v_c_x + of\n",
    "        print(\"{} to {} \\n travell for {}\".format(self.curnt,self.vert,fowr_dist))\n",
    "        print(\"communicating to controller ...\")\n",
    "        print(\"reached {}\".format(self.vert))\n",
    "        print (\"now moving side ways ... \")\n",
    "        print(\"-----------------------------\")\n",
    "        \n",
    "    def move_up(self,v_c_x,c_p_x,of):\n",
    "        if(c_p_x > v_c_x):\n",
    "            self.backwards(v_c_x,c_p_x,of)\n",
    "        else:\n",
    "            self.forward(v_c_x,c_p_x,of)\n",
    "    \n",
    "    def move_back(self,v,h,side_dist):\n",
    "        #call the micro controller\n",
    "        #send the distance to the micro-controller\n",
    "        print(\"moving from {} to {}\".format(h,v))\n",
    "        print(\"communicating controller ...\")\n",
    "        print(\"reached {}\".format(v))\n",
    "        print(\"-----------------------------\")\n",
    "        \n",
    "    def move_side(self,v,h):\n",
    "        a,v_c_y = v\n",
    "        b,h_c_y = h\n",
    "        side_dist = 0.0 \n",
    "        if(v == h):\n",
    "            side_dist = 0.5\n",
    "        else:\n",
    "            side_dist = abs(v_c_y - h_c_y) + 0.5\n",
    "        \n",
    "        print(\"{} to {} \\n travelling for {} side ways\".format(v,h,side_dist))\n",
    "        print(\"communicating to controller ...\")\n",
    "        print(\"reached {}\".format(h))\n",
    "        print(\"-----------------------------\")\n",
    "        \n",
    "        self.move_back(v,h,side_dist)\n",
    "    \n",
    "    def move(self,v,of,h,d=0):\n",
    "        self.vert = v\n",
    "        self.hori = h\n",
    "        v_c_x,v_c_y = v\n",
    "        h_c_x,h_c_y = h\n",
    "        c_p_x,c_p_y = (0,0) #from the sensor\n",
    "        self.curnt = (c_p_x,c_p_y)\n",
    "        self.move_up(v_c_x,c_p_x,of)\n",
    "        self.move_side(v,h)\n",
    "        \n",
    "        \n",
    "a = Bot()\n",
    "a.move((3,0),-0.25,(3,0))"
   ]
  }
 ],
 "metadata": {
  "kernelspec": {
   "display_name": "Python 2",
   "language": "python",
   "name": "python2"
  },
  "language_info": {
   "codemirror_mode": {
    "name": "ipython",
    "version": 2
   },
   "file_extension": ".py",
   "mimetype": "text/x-python",
   "name": "python",
   "nbconvert_exporter": "python",
   "pygments_lexer": "ipython2",
   "version": "2.7.15"
  }
 },
 "nbformat": 4,
 "nbformat_minor": 2
}
